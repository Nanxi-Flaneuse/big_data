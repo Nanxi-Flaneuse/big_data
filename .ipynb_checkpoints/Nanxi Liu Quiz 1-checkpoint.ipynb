{
 "cells": [
  {
   "cell_type": "markdown",
   "id": "4d5a7dbf",
   "metadata": {},
   "source": [
    "### Importing Libraries"
   ]
  },
  {
   "cell_type": "code",
   "execution_count": 59,
   "id": "e6cf965e",
   "metadata": {},
   "outputs": [],
   "source": [
    "from bs4 import BeautifulSoup\n",
    "import requests"
   ]
  },
  {
   "cell_type": "code",
   "execution_count": 10,
   "id": "30b36865",
   "metadata": {},
   "outputs": [],
   "source": [
    "with open(\"alice_in_wonderland.html\") as fp:\n",
    "    soup = BeautifulSoup(fp)\n",
    "\n",
    "# soup = BeautifulSoup(\"<html>data</html>\")"
   ]
  },
  {
   "cell_type": "markdown",
   "id": "12a0fbd2",
   "metadata": {},
   "source": [
    "### 1. Write a Python program books() to return the names of the canon books."
   ]
  },
  {
   "cell_type": "code",
   "execution_count": 57,
   "id": "06653cd7",
   "metadata": {},
   "outputs": [
    {
     "data": {
      "text/plain": [
       "[\"Alice's Adventures in Wonderland\",\n",
       " 'Through the Looking-Glass, and What Alice Found There',\n",
       " \"Alice's Adventures Underground\"]"
      ]
     },
     "execution_count": 57,
     "metadata": {},
     "output_type": "execute_result"
    }
   ],
   "source": [
    "def books():\n",
    "    s = soup.find_all(class_=\"wds-dropdown-level-nested\")[0]\n",
    "    books = s.find_all('span')[1:]\n",
    "    result = [x.string for x in books]\n",
    "    return result\n",
    "\n",
    "books()"
   ]
  },
  {
   "cell_type": "markdown",
   "id": "dd4e29ee",
   "metadata": {},
   "source": [
    "### 2. Write a Python program poems() to return the names of the canon poems and their URLs. "
   ]
  },
  {
   "cell_type": "code",
   "execution_count": 55,
   "id": "fe7cce43",
   "metadata": {},
   "outputs": [
    {
     "data": {
      "text/plain": [
       "[('Jabberwocky', 'https://aliceinwonderland.fandom.com/wiki/Jabberwocky'),\n",
       " ('How Doth the Little Crocodile',\n",
       "  'https://aliceinwonderland.fandom.com/wiki/How_Doth_the_Little_Crocodile'),\n",
       " ('The Walrus and the Carpenter',\n",
       "  'https://aliceinwonderland.fandom.com/wiki/The_Walrus_and_the_Carpenter_(poem)'),\n",
       " ('You Are Old, Father William',\n",
       "  'https://aliceinwonderland.fandom.com/wiki/You_Are_Old,_Father_William'),\n",
       " (\"Humpty Dumpty's Recitation\",\n",
       "  'https://aliceinwonderland.fandom.com/wiki/Humpty_Dumpty%27s_Recitation'),\n",
       " ('Turtle Soup', 'https://aliceinwonderland.fandom.com/wiki/Turtle_Soup'),\n",
       " ('Tis the Voice of the Lobster',\n",
       "  'https://aliceinwonderland.fandom.com/wiki/Tis_the_Voice_of_the_Lobster')]"
      ]
     },
     "execution_count": 55,
     "metadata": {},
     "output_type": "execute_result"
    }
   ],
   "source": [
    "def poems():\n",
    "    s = soup.find_all(class_=\"wds-dropdown-level-nested\")[1]\n",
    "    poem = s.find_all('a')[1:]\n",
    "#     print(poem)\n",
    "    result = []\n",
    "    for p in poem:\n",
    "#         print(p['href'])\n",
    "#         print(p.find('span').string)\n",
    "        result.append((p.find('span').string, p['href']))\n",
    "    return result\n",
    "    \n",
    "poems()"
   ]
  },
  {
   "cell_type": "markdown",
   "id": "690548ac",
   "metadata": {},
   "source": [
    "### 3. Write a Python program poem_title_text(n) that calls poems() and, using n as the index and returns the poem title and its text."
   ]
  },
  {
   "cell_type": "code",
   "execution_count": 75,
   "id": "054d4320",
   "metadata": {},
   "outputs": [
    {
     "data": {
      "text/plain": [
       "['Turtle Soup',\n",
       " 'Beautiful Soup, so rich and green,\\nWaiting in a hot tureen!\\nWho for such dainties would not stoop?\\nSoup of the evening, beautiful Soup!\\nSoup of the evening, beautiful Soup!\\nBeau--ootiful Soo--oop!\\nBeau--ootiful Soo--oop!\\nSoo--oop of the e--e--evening,\\nBeautiful, beautiful Soup!\\nBeautiful Soup! Who cares for fish,\\nGame or any other dish?\\nWho would not give all else for two\\nPennyworth only of Beautiful Soup?\\nPennyworth only of beautiful Soup?\\nBeau--ootiful Soo--oop!\\nBeau--ootiful Soo--oop!\\nSoo--oop of the e--e--evening,\\nBeautiful, beauti--FUL SOUP!\\n']"
      ]
     },
     "execution_count": 75,
     "metadata": {},
     "output_type": "execute_result"
    }
   ],
   "source": [
    "def program_title_text(n):\n",
    "    poem = poems()[n]\n",
    "    r = requests.get(poem[1])\n",
    "    title = poem[0]\n",
    "    text = ''\n",
    "    soup = BeautifulSoup(r.content, 'html.parser')\n",
    "#     with open(poem[1]) as fp:\n",
    "#         poem_web = BeautifulSoup(fp)\n",
    "    for line in soup.find('h2').find_next_siblings():\n",
    "        text += line.text\n",
    "#     print(text)\n",
    "    return [title, text]\n",
    "#     print(soup.find('h2').find_next_siblings().text)\n",
    "# program_title_text(2)\n",
    "program_title_text(5)"
   ]
  },
  {
   "cell_type": "markdown",
   "id": "5738a8cc",
   "metadata": {},
   "source": [
    "### 4. References\n",
    "\n",
    "##### [1] https://stackoverflow.com/questions/60357571/use-beautifulsoup-to-extract-text-under-specific-header\n",
    "##### [2] https://beautiful-soup-4.readthedocs.io/en/latest/#searching-the-tree\n",
    "##### [3] https://www.geeksforgeeks.org/how-to-scrape-websites-with-beautifulsoup-and-python/\n",
    "##### [4] https://stackoverflow.com/questions/53091598/web-scrape-get-drop-down-menu-data-python\n",
    "##### [5] https://stackoverflow.com/questions/5815747/beautifulsoup-getting-href"
   ]
  }
 ],
 "metadata": {
  "kernelspec": {
   "display_name": "Python 3 (ipykernel)",
   "language": "python",
   "name": "python3"
  },
  "language_info": {
   "codemirror_mode": {
    "name": "ipython",
    "version": 3
   },
   "file_extension": ".py",
   "mimetype": "text/x-python",
   "name": "python",
   "nbconvert_exporter": "python",
   "pygments_lexer": "ipython3",
   "version": "3.11.5"
  }
 },
 "nbformat": 4,
 "nbformat_minor": 5
}
