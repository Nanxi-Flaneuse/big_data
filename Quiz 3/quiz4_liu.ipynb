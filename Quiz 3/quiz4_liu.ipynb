{
 "cells": [
  {
   "cell_type": "markdown",
   "id": "b539d978",
   "metadata": {},
   "source": [
    "## Part 1 Functional Programming"
   ]
  },
  {
   "cell_type": "markdown",
   "id": "98be68a2",
   "metadata": {},
   "source": [
    "### 1.1"
   ]
  },
  {
   "cell_type": "code",
   "execution_count": 6,
   "id": "fbc4b030",
   "metadata": {},
   "outputs": [
    {
     "name": "stdout",
     "output_type": "stream",
     "text": [
      "28\n",
      "-4\n",
      "-4\n"
     ]
    }
   ],
   "source": [
    "import functools\n",
    "import operator\n",
    "\n",
    "def add(nums):\n",
    "    return functools.reduce(lambda a, x: a + x, nums)\n",
    "\n",
    "def sub(nums):\n",
    "    return functools.reduce(lambda a, x: a - x, nums)\n",
    "\n",
    "def ra_sub(nums):\n",
    "    return functools.reduce(lambda a, x: x - a, reversed(nums)) # reversed is used here because we need to start from the right and do recursive subtraction\n",
    "\n",
    "print(add([1,2,3,4,18]))\n",
    "print(sub([1,2,3]))\n",
    "print(ra_sub([5, 1, 2, 10]))"
   ]
  },
  {
   "cell_type": "markdown",
   "id": "187eaec1",
   "metadata": {},
   "source": [
    "### 1.2 zip"
   ]
  },
  {
   "cell_type": "code",
   "execution_count": 20,
   "id": "e35bf6ac",
   "metadata": {
    "scrolled": true
   },
   "outputs": [
    {
     "name": "stdout",
     "output_type": "stream",
     "text": [
      "[[1, 4, 7], [2, 5, 8], [3, 6, 9]]\n",
      "[[1, 4], [2, 5], [3, 6], [5, 9]]\n"
     ]
    }
   ],
   "source": [
    "def zip(*args):\n",
    "    return list(map(lambda *elements: list(elements), *args))\n",
    "        \n",
    "print(zip([1, 2, 3], [4, 5, 6], [7, 8, 9]))\n",
    "print(zip([1, 2, 3,5], [4, 5, 6,9]))\n"
   ]
  },
  {
   "cell_type": "markdown",
   "id": "0368c7a8",
   "metadata": {},
   "source": [
    "### 1.3 Zipwith"
   ]
  },
  {
   "cell_type": "code",
   "execution_count": 33,
   "id": "f686872f",
   "metadata": {},
   "outputs": [
    {
     "name": "stdout",
     "output_type": "stream",
     "text": [
      "[5, 7, 9]\n",
      "[6, 8, 10]\n"
     ]
    }
   ],
   "source": [
    "def zipwith(func, *args):\n",
    "    return list(map(func, zip(*args))) # first zips the arguments then perform the function on each element\n",
    "\n",
    "print(zipwith(add, [1, 2, 3], [4, 5, 6]))\n",
    "print(zipwith(add, [1, 2, 3], [4, 5, 6], [1, 1, 1]))"
   ]
  },
  {
   "cell_type": "markdown",
   "id": "480a0c46",
   "metadata": {},
   "source": [
    "### 1.4 flatten"
   ]
  },
  {
   "cell_type": "code",
   "execution_count": 42,
   "id": "5d80241c",
   "metadata": {},
   "outputs": [
    {
     "data": {
      "text/plain": [
       "[1, 2, 3, 4, 5, 6, 7, 8, 9, 10]"
      ]
     },
     "execution_count": 42,
     "metadata": {},
     "output_type": "execute_result"
    }
   ],
   "source": [
    "def flatten(tree):\n",
    "\n",
    "    # Base case: if the tree is not a list, return it in a list\n",
    "    if not isinstance(tree, list):\n",
    "        return [tree]\n",
    "\n",
    "    # Use the map function to apply flatten to each subtree, then flatten the result\n",
    "    return sum(map(flatten, tree), [])\n",
    "\n",
    "flatten([1, [2, [3, 4], [5, 6], 7], 8, [9, 10]])"
   ]
  },
  {
   "cell_type": "markdown",
   "id": "c434842a",
   "metadata": {},
   "source": [
    "### 1.5 group_by"
   ]
  },
  {
   "cell_type": "code",
   "execution_count": 4,
   "id": "23102c12",
   "metadata": {},
   "outputs": [
    {
     "data": {
      "text/plain": [
       "{2: ['hi', 'me'],\n",
       " 3: ['dog', 'bad'],\n",
       " 4: ['good', 'once', 'upon'],\n",
       " 6: ['a time'],\n",
       " 23: ['there was a little girl']}"
      ]
     },
     "execution_count": 4,
     "metadata": {},
     "output_type": "execute_result"
    }
   ],
   "source": [
    "from functools import reduce\n",
    "\n",
    "def group_by(func, sequence):\n",
    "    return reduce(\n",
    "        # lambda function that creates the dictionary\n",
    "        lambda acc, item: {\n",
    "            **acc,\n",
    "            func(item): acc.get(func(item), []) + [item] # update the list with a key, value pair\n",
    "        },\n",
    "        sequence,\n",
    "        {} # initial value for the accumulator\n",
    "    )\n",
    "\n",
    "group_by(len, [\"hi\", \"dog\", \"me\", \"bad\", \"good\"])\n",
    "group_by(len, [\"hi\", \"dog\", \"me\", \"bad\", \"good\",'once','upon','a time','there was a little girl'])"
   ]
  },
  {
   "cell_type": "markdown",
   "id": "aad79141",
   "metadata": {},
   "source": [
    "    [1] https://www.geeksforgeeks.org/reduce-in-python/\n",
    "    [2] ChatGPT's thoughts on how to write the zip function using functional programming\n",
    "    [3] ChatGPT's thoughts on how to write the flatten function using functional programming\n",
    "    [4] ChatGPT's thoughts on how to write the group_by function using functional programming\n",
    "\n"
   ]
  }
 ],
 "metadata": {
  "kernelspec": {
   "display_name": "Python 3 (ipykernel)",
   "language": "python",
   "name": "python3"
  },
  "language_info": {
   "codemirror_mode": {
    "name": "ipython",
    "version": 3
   },
   "file_extension": ".py",
   "mimetype": "text/x-python",
   "name": "python",
   "nbconvert_exporter": "python",
   "pygments_lexer": "ipython3",
   "version": "3.11.5"
  }
 },
 "nbformat": 4,
 "nbformat_minor": 5
}
