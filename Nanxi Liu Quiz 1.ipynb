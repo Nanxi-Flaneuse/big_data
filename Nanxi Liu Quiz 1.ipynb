{
 "cells": [
  {
   "cell_type": "markdown",
   "id": "2e57032e",
   "metadata": {},
   "source": [
    "### Importing Libraries"
   ]
  },
  {
   "cell_type": "code",
   "execution_count": 59,
   "id": "172e97e5",
   "metadata": {},
   "outputs": [],
   "source": [
    "from bs4 import BeautifulSoup\n",
    "import requests"
   ]
  },
  {
   "cell_type": "code",
   "execution_count": 10,
   "id": "68d4adb0",
   "metadata": {},
   "outputs": [],
   "source": [
    "with open(\"alice_in_wonderland.html\") as fp:\n",
    "    soup = BeautifulSoup(fp)\n",
    "\n",
    "# soup = BeautifulSoup(\"<html>data</html>\")"
   ]
  },
  {
   "cell_type": "markdown",
   "id": "408cf76a",
   "metadata": {},
   "source": [
    "### 1. Write a Python program books() to return the names of the canon books."
   ]
  },
  {
   "cell_type": "code",
   "execution_count": 57,
   "id": "1f5a8eac",
   "metadata": {},
   "outputs": [
    {
     "data": {
      "text/plain": [
       "[\"Alice's Adventures in Wonderland\",\n",
       " 'Through the Looking-Glass, and What Alice Found There',\n",
       " \"Alice's Adventures Underground\"]"
      ]
     },
     "execution_count": 57,
     "metadata": {},
     "output_type": "execute_result"
    }
   ],
   "source": [
    "def books():\n",
    "    s = soup.find_all(class_=\"wds-dropdown-level-nested\")[0]\n",
    "    books = s.find_all('span')[1:]\n",
    "    result = [x.string for x in books]\n",
    "    return result\n",
    "\n",
    "books()"
   ]
  },
  {
   "cell_type": "markdown",
   "id": "43923ad4",
   "metadata": {},
   "source": [
    "### 2. Write a Python program poems() to return the names of the canon poems and their URLs. "
   ]
  },
  {
   "cell_type": "code",
   "execution_count": 55,
   "id": "a10a574b",
   "metadata": {},
   "outputs": [
    {
     "data": {
      "text/plain": [
       "[('Jabberwocky', 'https://aliceinwonderland.fandom.com/wiki/Jabberwocky'),\n",
       " ('How Doth the Little Crocodile',\n",
       "  'https://aliceinwonderland.fandom.com/wiki/How_Doth_the_Little_Crocodile'),\n",
       " ('The Walrus and the Carpenter',\n",
       "  'https://aliceinwonderland.fandom.com/wiki/The_Walrus_and_the_Carpenter_(poem)'),\n",
       " ('You Are Old, Father William',\n",
       "  'https://aliceinwonderland.fandom.com/wiki/You_Are_Old,_Father_William'),\n",
       " (\"Humpty Dumpty's Recitation\",\n",
       "  'https://aliceinwonderland.fandom.com/wiki/Humpty_Dumpty%27s_Recitation'),\n",
       " ('Turtle Soup', 'https://aliceinwonderland.fandom.com/wiki/Turtle_Soup'),\n",
       " ('Tis the Voice of the Lobster',\n",
       "  'https://aliceinwonderland.fandom.com/wiki/Tis_the_Voice_of_the_Lobster')]"
      ]
     },
     "execution_count": 55,
     "metadata": {},
     "output_type": "execute_result"
    }
   ],
   "source": [
    "def poems():\n",
    "    s = soup.find_all(class_=\"wds-dropdown-level-nested\")[1]\n",
    "    poem = s.find_all('a')[1:]\n",
    "    result = []\n",
    "    for p in poem:\n",
    "        result.append((p.find('span').string, p['href']))\n",
    "    return result\n",
    "    \n",
    "poems()"
   ]
  },
  {
   "cell_type": "markdown",
   "id": "b5d4ac87",
   "metadata": {},
   "source": [
    "### 3. Write a Python program poem_title_text(n) that calls poems() and, using n as the index and returns the poem title and its text."
   ]
  },
  {
   "cell_type": "code",
   "execution_count": 75,
   "id": "fe7927f2",
   "metadata": {},
   "outputs": [
    {
     "data": {
      "text/plain": [
       "['Turtle Soup',\n",
       " 'Beautiful Soup, so rich and green,\\nWaiting in a hot tureen!\\nWho for such dainties would not stoop?\\nSoup of the evening, beautiful Soup!\\nSoup of the evening, beautiful Soup!\\nBeau--ootiful Soo--oop!\\nBeau--ootiful Soo--oop!\\nSoo--oop of the e--e--evening,\\nBeautiful, beautiful Soup!\\nBeautiful Soup! Who cares for fish,\\nGame or any other dish?\\nWho would not give all else for two\\nPennyworth only of Beautiful Soup?\\nPennyworth only of beautiful Soup?\\nBeau--ootiful Soo--oop!\\nBeau--ootiful Soo--oop!\\nSoo--oop of the e--e--evening,\\nBeautiful, beauti--FUL SOUP!\\n']"
      ]
     },
     "execution_count": 75,
     "metadata": {},
     "output_type": "execute_result"
    }
   ],
   "source": [
    "def program_title_text(n):\n",
    "    poem = poems()[n]\n",
    "    r = requests.get(poem[1])\n",
    "    title = poem[0]\n",
    "    text = ''\n",
    "    soup = BeautifulSoup(r.content, 'html.parser')\n",
    "#     with open(poem[1]) as fp:\n",
    "#         poem_web = BeautifulSoup(fp)\n",
    "    for line in soup.find('h2').find_next_siblings():\n",
    "        text += line.text\n",
    "#     print(text)\n",
    "    return [title, text]\n",
    "#     print(soup.find('h2').find_next_siblings().text)\n",
    "# program_title_text(2)\n",
    "program_title_text(5)"
   ]
  },
  {
   "cell_type": "code",
   "execution_count": 76,
   "id": "b10f4c06",
   "metadata": {},
   "outputs": [
    {
     "data": {
      "text/plain": [
       "['The Walrus and the Carpenter',\n",
       " 'The sun was shining on the sea,\\nShining with all his might:\\nHe did his very best to make\\nThe billows smooth and bright--\\nAnd this was odd, because it was\\nThe middle of the night.\\nThe moon was shining sulkily,\\nBecause she thought the sun\\nHad got no business to be there\\nAfter the day was done--\\n\"It\\'s very rude of him,\" she said,\\n\"To come and spoil the fun!\"\\nThe sea was wet as wet could be,\\nThe sands were dry as dry.\\nYou could not see a cloud, because\\nNo cloud was in the sky:\\nNo birds were flying overhead--\\nThere were no birds to fly.\\nThe Walrus and the Carpenter\\nWere walking close at hand;\\nThey wept like anything to see\\nSuch quantities of sand:\\n\"If this were only cleared away,\"\\nThey said, \"it would be grand!\"\\n\"If seven maids with seven mops\\nSwept it for half a year.\\nDo you suppose,\" the Walrus said,\\n\"That they could get it clear?\"\\n\"I doubt it,\" said the Carpenter,\\nAnd shed a bitter tear.\\n\"O Oysters, come and walk with us!\"\\nThe Walrus did beseech.\\n\"A pleasant walk, a pleasant talk,\\nAlong the briny beach:\\nWe cannot do with more than four,\\nTo give a hand to each.\"\\nThe eldest Oyster looked at him,\\nBut never a word he said:\\nThe eldest Oyster winked his eye,\\nAnd shook his heavy head--\\nMeaning to say he did not choose\\nTo leave the oyster-bed.\\nBut four young Oysters hurried up,\\nAll eager for the treat:\\nTheir coats were brushed, their faces washed,\\nTheir shoes were clean and neat--\\nAnd this was odd, because, you know,\\nThey hadn\\'t any feet.\\nFour other Oysters followed them,\\nAnd yet another four;\\nAnd thick and fast they came at last,\\nAnd more, and more, and more--\\nAll hopping through the frothy waves,\\nAnd scrambling to the shore.\\nThe Walrus and the Carpenter\\nWalked on a mile or so,\\nAnd then they rested on a rock\\nConveniently low:\\nAnd all the little Oysters stood\\nAnd waited in a row.\\n\"The time has come,\" the Walrus said,\\n\"To talk of many things:\\nOf shoes--and ships--and sealing-wax--\\nOf cabbages--and kings--\\nAnd why the sea is boiling hot--\\nAnd whether pigs have wings.\"\\n\"But wait a bit,\" the Oysters cried,\\n\"Before we have our chat;\\nFor some of us are out of breath,\\nAnd all of us are fat!\"\\n\"No hurry!\" said the Carpenter.\\nThey thanked him much for that.\\n\"A loaf of bread,\" the Walrus said,\\n\"Is what we chiefly need:\\nPepper and vinegar besides\\nAre very good indeed--\\nNow if you\\'re ready, Oysters dear,\\nWe can begin to feed.\"\\n\"But not on us!\" the Oysters cried,\\nTurning a little blue.\\n\"After such kindness, that would be\\nA dismal thing to do!\"\\n\"The night is fine,\" the Walrus said.\\n\"Do you admire the view?\\n\"It was so kind of you to come!\\nAnd you are very nice!\"\\nThe Carpenter said nothing but\\n\"Cut us another slice:\\nI wish you were not quite so deaf--\\nI\\'ve had to ask you twice!\"\\n\"It seems a shame,\" the Walrus said,\\n\"To play them such a trick,\\nAfter we\\'ve brought them out so far,\\nAnd made them trot so quick!\"\\nThe Carpenter said nothing but\\n\"The butter\\'s spread too thick!\"\\n\"I weep for you,\" the Walrus said:\\n\"I deeply sympathize.\"\\nWith sobs and tears he sorted out\\nThose of the largest size,\\nHolding his pocket-handkerchief\\nBefore his streaming eyes.\\n\"O Oysters,\" said the Carpenter,\\n\"You\\'ve had a pleasant run!\\nShall we be trotting home again?\\'\\nBut answer came there none--\\nAnd this was scarcely odd, because\\nThey\\'d eaten every one.\\n']"
      ]
     },
     "execution_count": 76,
     "metadata": {},
     "output_type": "execute_result"
    }
   ],
   "source": [
    "program_title_text(2)"
   ]
  },
  {
   "cell_type": "markdown",
   "id": "47a064cb",
   "metadata": {},
   "source": [
    "### 4. References\n",
    "\n",
    "##### [1] https://stackoverflow.com/questions/60357571/use-beautifulsoup-to-extract-text-under-specific-header\n",
    "##### [2] https://beautiful-soup-4.readthedocs.io/en/latest/#searching-the-tree\n",
    "##### [3] https://www.geeksforgeeks.org/how-to-scrape-websites-with-beautifulsoup-and-python/\n",
    "##### [4] https://stackoverflow.com/questions/53091598/web-scrape-get-drop-down-menu-data-python\n",
    "##### [5] https://stackoverflow.com/questions/5815747/beautifulsoup-getting-href"
   ]
  }
 ],
 "metadata": {
  "kernelspec": {
   "display_name": "Python 3 (ipykernel)",
   "language": "python",
   "name": "python3"
  },
  "language_info": {
   "codemirror_mode": {
    "name": "ipython",
    "version": 3
   },
   "file_extension": ".py",
   "mimetype": "text/x-python",
   "name": "python",
   "nbconvert_exporter": "python",
   "pygments_lexer": "ipython3",
   "version": "3.11.5"
  }
 },
 "nbformat": 4,
 "nbformat_minor": 5
}
