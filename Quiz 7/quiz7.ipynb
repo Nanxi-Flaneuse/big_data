{
 "cells": [
  {
   "cell_type": "code",
   "execution_count": 1,
   "id": "33357689",
   "metadata": {},
   "outputs": [],
   "source": [
    "import twelvedata\n",
    "f = open(\"keys.txt\", \"r\")\n",
    "key = f.read()\n",
    "my_key = key\n",
    "# from keys import twelveDataKey as api_key\n",
    "from twelvedata import TDClient"
   ]
  },
  {
   "cell_type": "markdown",
   "id": "d49d4197",
   "metadata": {},
   "source": [
    "### 1. Getting the Data"
   ]
  },
  {
   "cell_type": "code",
   "execution_count": 14,
   "id": "ffbb9160",
   "metadata": {},
   "outputs": [],
   "source": [
    "td = TDClient(apikey = my_key)\n",
    "\n",
    "# sym is the symbol (AAPL, MSFT, IBM); start is the start date. format: 2020-01-01; end is the end date.\n",
    "def get_data(sym, start, end):\n",
    "    ts = td.time_series(\n",
    "         symbol=sym,\n",
    "         interval=\"15min\" ,\n",
    "         start_date=start, \n",
    "         end_date=end,\n",
    "         type = \"Common Stock\",\n",
    "         outputsize = 5000\n",
    "\n",
    "    ).as_pandas()\n",
    "    ts.to_csv('stock data/'+sym+'_'+end+'.csv',encoding='utf-8')\n",
    "    \n",
    "get_data('AAPL', '2020-10-31','2024-10-31')\n",
    "get_data('AAPL', '2020-10-31','2024-01-26')\n",
    "get_data('AAPL', '2020-10-31','2023-04-20')\n",
    "get_data('AAPL', '2020-10-31','2022-07-14')\n",
    "get_data('AAPL', '2020-10-31','2021-10-05')\n",
    "get_data('AAPL', '2020-10-31','2020-12-29')\n",
    "get_data('AAPL', '2020-01-01','2020-10-31')\n",
    "get_data('AAPL', '2020-01-01','2020-01-29')\n",
    "\n",
    "get_data('MSFT', '2020-10-31','2024-10-31')\n",
    "get_data('MSFT', '2020-10-31','2024-01-26')\n",
    "get_data('MSFT', '2020-10-31','2023-04-20')\n",
    "get_data('MSFT', '2020-10-31','2022-07-14')\n",
    "get_data('MSFT', '2020-10-31','2021-10-05')\n",
    "get_data('MSFT', '2020-10-31','2020-12-29')\n",
    "get_data('MSFT', '2020-01-01','2020-10-31')\n",
    "get_data('MSFT', '2020-01-01','2020-01-29')\n",
    "\n",
    "get_data('IBM', '2020-10-31','2024-10-31')\n",
    "get_data('IBM', '2020-10-31','2024-01-26')\n",
    "get_data('IBM', '2020-10-31','2023-04-20')\n",
    "get_data('IBM', '2020-10-31','2022-07-14')\n",
    "get_data('IBM', '2020-10-31','2021-10-05')\n",
    "get_data('IBM', '2020-10-31','2020-12-29')\n",
    "get_data('IBM', '2020-01-01','2020-10-31')\n",
    "get_data('IBM', '2020-01-01','2020-01-29')"
   ]
  },
  {
   "cell_type": "markdown",
   "id": "15776414",
   "metadata": {},
   "source": [
    "### 2. Concatenate all the files"
   ]
  },
  {
   "cell_type": "code",
   "execution_count": 25,
   "id": "25e4ad51",
   "metadata": {},
   "outputs": [
    {
     "name": "stdout",
     "output_type": "stream",
     "text": [
      "['stock data/AAPL_2024-01-26.csv', 'stock data/MSFT_2020-01-29.csv', 'stock data/AAPL_2020-10-31.csv', 'stock data/IBM_2024-01-26.csv', 'stock data/IBM_2020-10-31.csv', 'stock data/AAPL_2020-01-29.csv', 'stock data/MSFT_2024-01-26.csv', 'stock data/MSFT_2020-10-31.csv', 'stock data/IBM_2020-01-29.csv', 'stock data/MSFT_2020-12-29.csv', 'stock data/AAPL_2022-07-14.csv', 'stock data/IBM_2023-04-20.csv', 'stock data/IBM_2024-10-31.csv', 'stock data/AAPL_2021-10-05.csv', 'stock data/IBM_2022-07-14.csv', 'stock data/AAPL_2023-04-20.csv', 'stock data/AAPL_2024-10-31.csv', 'stock data/IBM_2021-10-05.csv', 'stock data/MSFT_2023-04-19.csv', 'stock data/MSFT_2022-07-14.csv', 'stock data/AAPL_2020-12-29.csv', 'stock data/MSFT_2021-10-05.csv', 'stock data/IBM_2020-12-29.csv', 'stock data/MSFT_2024-10-31.csv']\n"
     ]
    }
   ],
   "source": [
    "import glob\n",
    "import os\n",
    "import pandas as pd\n",
    "\n",
    "# path = r'stock data' # use your path\n",
    "all_files = glob.glob('stock data/*.csv')\n",
    "li = []\n",
    "\n",
    "for filename in all_files:\n",
    "    df = pd.read_csv(filename)\n",
    "    if 'IBM' in filename:\n",
    "        df['Symbol'] = 'IBM'\n",
    "    elif 'AAPL' in filename:\n",
    "        df['Symbol'] = 'AAPL'\n",
    "    elif 'MSFT' in filename:\n",
    "        df['Symbol'] = 'MSFT'\n",
    "    li.append(df)\n",
    "\n",
    "frame = pd.concat(li, axis=0, ignore_index=True)\n",
    "frame.to_csv('four_years.csv',encoding='utf-8')"
   ]
  },
  {
   "cell_type": "markdown",
   "id": "5d4aae6c",
   "metadata": {},
   "source": [
    "### 3. Make the hash function"
   ]
  },
  {
   "cell_type": "code",
   "execution_count": 26,
   "id": "622f5d34",
   "metadata": {},
   "outputs": [],
   "source": [
    "def df_hexdigest(saved_df):\n",
    "    '''\n",
    "        saved_df should be a dataframe with columns ['datetime', 'open', 'high', 'low', 'close', 'volume', 'Symbol']\n",
    "        and with all data points between 2020-01-01 and 2024-06-30 (both dates inclusive), for  AAPL, MSFT and IBM.\n",
    "    '''\n",
    "\n",
    "    # Convert 'datetime' column to datetime objects if it's not already\n",
    "    import pandas as pd\n",
    "\n",
    "    saved_df['datetime'] = pd.to_datetime(saved_df['datetime'])\n",
    "\n",
    "    # Sort the DataFrame by the 'datetime' column\n",
    "    saved_df = saved_df.sort_values('datetime')\n",
    "\n",
    "    # Display the sorted DataFrame (optional)\n",
    "    # print(saved_df)\n",
    "    saved_df = saved_df.reset_index(drop=True)\n",
    "    saved_df\n",
    "\n",
    "    df_filtered = saved_df[(saved_df['datetime'] >= '2020-01-01') & (saved_df['datetime'] <= '2024-06-30')]\n",
    "    df_filtered\n",
    "\n",
    "    # Sort the DataFrame by the 'datetime' column\n",
    "    df_filtered_sorted = df_filtered.sort_values('datetime')\n",
    "\n",
    "    df_filtered_sorted = df_filtered_sorted.reset_index(drop=True)\n",
    "    df_filtered_sorted.head()\n",
    "\n",
    "    df_filtered_sorted_deduped = df_filtered_sorted.drop_duplicates(subset=['datetime', 'open', 'high', 'low', 'close', 'volume', 'Symbol'], keep='first')\n",
    "\n",
    "    printed_string = df_filtered_sorted_deduped[['datetime', 'Symbol']].to_string(index=False, header=False)\n",
    "    # print(printed_string[:2000])\n",
    "    import hashlib\n",
    "    md5_hash = hashlib.md5(printed_string.encode()) # Use hashlib.md5() to create the hash object\n",
    "    return md5_hash.hexdigest()\n",
    "\n",
    "df = pd.read_csv('four_years.csv')\n",
    "fourYearHash = df_hexdigest(df)"
   ]
  },
  {
   "cell_type": "markdown",
   "id": "a0c5b558",
   "metadata": {},
   "source": [
    "### References\n",
    "\n",
    "1. https://support.twelvedata.com/en/collections/3198976-how-to\n",
    "2. https://twelvedata.com/blog/get-high-quality-financial-data-directly-into-python\n",
    "3. https://www.youtube.com/watch?v=LMSYFJVcEo8"
   ]
  }
 ],
 "metadata": {
  "kernelspec": {
   "display_name": "Python 3 (ipykernel)",
   "language": "python",
   "name": "python3"
  },
  "language_info": {
   "codemirror_mode": {
    "name": "ipython",
    "version": 3
   },
   "file_extension": ".py",
   "mimetype": "text/x-python",
   "name": "python",
   "nbconvert_exporter": "python",
   "pygments_lexer": "ipython3",
   "version": "3.11.5"
  }
 },
 "nbformat": 4,
 "nbformat_minor": 5
}
